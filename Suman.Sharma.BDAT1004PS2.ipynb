{
 "cells": [
  {
   "cell_type": "markdown",
   "id": "8b28f69e",
   "metadata": {},
   "source": [
    "# Problem Set 2"
   ]
  },
  {
   "cell_type": "markdown",
   "id": "8ff60131",
   "metadata": {},
   "source": [
    "## Question 1"
   ]
  },
  {
   "cell_type": "markdown",
   "id": "e97d2bc7",
   "metadata": {},
   "source": [
    "Consider the following Python module:\n",
    "\n",
    "a = 0  def b():\n",
    "\n",
    "global a\n",
    "\n",
    "a = c(a)\n",
    "\n",
    "def c(a):\n",
    "\n",
    "return a + 2\n",
    "\n",
    "After importing the module into the interpreter, you execute:\n",
    "\n",
    ">>> b()\n",
    "\n",
    ">>> b()\n",
    "\n",
    ">>> b()\n",
    "\n",
    ">>> a ?\n",
    "\n",
    "What value is displayed when the last expression (a) is evaluated?\n",
    "\n",
    "Explain your answer by indicating what happens in every executed statement. "
   ]
  },
  {
   "cell_type": "markdown",
   "id": "ad906c8e",
   "metadata": {},
   "source": [
    "The value of 6 is obtained when the last expression (a) is evaluated. The following are the steps that occur when each statement is executed:\n",
    "\n",
    "•\tWe set the variable 'a' to an initial value of 0.\n",
    "\n",
    "•\tWe create a function called b() that uses the 'global' keyword to access and modify the global variable 'a'.\n",
    "\n",
    "•\tInside the b() function, we call the function `c(a)` and assign the returned value back to 'a'. The c() function takes the current value of 'a', adds 2 to it, and returns the updated value.\n",
    "\n",
    "•\tWhen b() is initially executed (i.e., the first time it is called), the result of c(a) is assigned to 'a', resulting in 'a' having a value of 2.\n",
    "\n",
    "•\tOn the second execution of b(), c(a) is called again, using the current value of 'a' (which is 2) and adding 2 to it. The returned value, 4, is then assigned back to 'a'.\n",
    "\n",
    "•\tSimilarly, during the third execution of b(), c(a) returns 6, which becomes the new value of 'a' after assignment.\n",
    "\n",
    "•\tFinally, when we evaluate the last expression 'a', it returns the value of 'a', which is 6.\n",
    "\n",
    "To summarize, this code progressively increases the value of 'a' by 2 with each call of b(), starting from an initial value of 0. Therefore, after three calls to b(), the final value of 'a' becomes 6.\n"
   ]
  },
  {
   "cell_type": "markdown",
   "id": "78f2f877",
   "metadata": {},
   "source": [
    "## Question 2"
   ]
  },
  {
   "cell_type": "markdown",
   "id": "708c79ee",
   "metadata": {},
   "source": [
    "Function fileLength(), given to you, takes the name of a file as input and returns the length of the file:\n",
    "    \n",
    "    >>> fileLength('midterm.py') \n",
    "    284 \n",
    "    \n",
    "    >>> fileLength('idterm.py') \n",
    "    \n",
    "    Traceback (most recent call last): \n",
    "        File \"<pyshell#34>\", line 1, in <module>   \n",
    "        \n",
    "        fileLength('idterm.py')   \n",
    "        \n",
    "        File \"/Users/me/midterm.py\",\n",
    "        \n",
    "        line 3, in fileLength   \n",
    "        \n",
    "        infile = open(filename)\n",
    "        \n",
    "        FileNotFoundError: [Errno 2] \n",
    "            \n",
    "            No such file or directory: 'idterm.py'\n",
    "                \n",
    "                As shown above, if the file cannot be found by the interpreter or if it cannot be read as a text file, \n",
    "                an exception will be raised. Modify function fileLength() so that a friendly message is printed instead:\n",
    "                    \n",
    "                    >>> fileLength('midterm.py') \n",
    "                    358 \n",
    "                    \n",
    "                    >>> fileLength('idterm.py')\n",
    "                    \n",
    "                    File idterm.py not found."
   ]
  },
  {
   "cell_type": "code",
   "execution_count": 1,
   "id": "8f651b34",
   "metadata": {},
   "outputs": [
    {
     "name": "stdout",
     "output_type": "stream",
     "text": [
      "File idterm.py not found.\n"
     ]
    }
   ],
   "source": [
    "def fileLength(filename):\n",
    "    \n",
    "    try:\n",
    "        \n",
    "        infile = open(filename)\n",
    "        contents = infile.read()\n",
    "        infile.close()\n",
    "        print(len(contents))\n",
    "        \n",
    "    except FileNotFoundError:\n",
    "        \n",
    "        print(f\"File {filename} not found.\")\n",
    "        \n",
    "fileLength(\"idterm.py\")"
   ]
  },
  {
   "cell_type": "markdown",
   "id": "19e1278b",
   "metadata": {},
   "source": [
    "## Question 3"
   ]
  },
  {
   "cell_type": "markdown",
   "id": "541fc540",
   "metadata": {},
   "source": [
    "Write a class named Marsupial that can be used as shown below:  \n",
    "\n",
    ">>> m = Marsupial()\n",
    "\n",
    ">>> m.put_in_pouch('doll')\n",
    "\n",
    ">>> m.put_in_pouch('firetruck')\n",
    "\n",
    ">>> m.put_in_pouch('kitten')\n",
    "\n",
    ">>> m.pouch_contents()\n",
    "['doll', 'firetruck', 'kitten'] \n",
    "\n",
    "Now write a class named Kangaroo as a subclass of Marsupial that inherits all the attributes of Marsupial and also: \n",
    "\n",
    "a. extends the Marsupial __init__ constructor to take, as input, the coordinates x and y of the Kangaroo object, \n",
    "\n",
    "b. supports method jump that takes number values dx and dy as input and moves the kangaroo by dx units along the x-axis and by dy units along the yaxis, and\n",
    "\n",
    "c. overloads the __str__ operator so it behaves as shown below. "
   ]
  },
  {
   "cell_type": "code",
   "execution_count": 11,
   "id": "aa1ba456",
   "metadata": {},
   "outputs": [
    {
     "name": "stdout",
     "output_type": "stream",
     "text": [
      "['doll', 'firetruck', 'kitten']\n",
      "I am a Kangaroo located at coordinates (0,0)\n",
      "['doll', 'firetruck', 'kitten']\n",
      "I am a Kangaroo located at coordinates (3,0)\n"
     ]
    }
   ],
   "source": [
    "class Marsupial:\n",
    "    def __init__(self):\n",
    "        self.pouch = []\n",
    "    \n",
    "    def put_in_pouch(self, item):\n",
    "        self.pouch.append(item)\n",
    "    \n",
    "    def pouch_contents(self):\n",
    "        return self.pouch\n",
    "\n",
    "\n",
    "class Kangaroo(Marsupial):\n",
    "    # a.t\n",
    "    def __init__(self, x, y):\n",
    "        super().__init__()\n",
    "        self.x = x\n",
    "        self.y = y\n",
    "    \n",
    "    # b.\n",
    "    def jump(self, dx, dy):\n",
    "        self.x += dx\n",
    "        self.y += dy\n",
    "    \n",
    "    def __str__(self):\n",
    "        return f\"I am a Kangaroo located at coordinates ({self.x},{self.y})\"\n",
    "\n",
    "\n",
    "m = Marsupial()\n",
    "m.put_in_pouch('doll')\n",
    "m.put_in_pouch('firetruck')\n",
    "m.put_in_pouch('kitten')\n",
    "print(m.pouch_contents())\n",
    "\n",
    "k = Kangaroo(0, 0)\n",
    "print(k) \n",
    "k.put_in_pouch('doll')\n",
    "k.put_in_pouch('firetruck')\n",
    "k.put_in_pouch('kitten')\n",
    "print(k.pouch_contents()) \n",
    "\n",
    "k.jump(1, 0)\n",
    "k.jump(1, 0)\n",
    "k.jump(1, 0)\n",
    "print(k)  "
   ]
  },
  {
   "cell_type": "markdown",
   "id": "90cac425",
   "metadata": {},
   "source": [
    "## QuestIon 4"
   ]
  },
  {
   "cell_type": "markdown",
   "id": "2597c1d7",
   "metadata": {},
   "source": [
    "Write function collatz() that takes a positive integer x as input and prints the Collatz sequence starting at x.\n",
    "\n",
    "A Collatz sequence is obtained by repeatedly applying this rule to the previous number x in the sequence:\n",
    "\n",
    "x = {  𝑥/2                    𝑖𝑓 𝑥 𝑖𝑠 𝑒𝑣𝑒𝑛 \n",
    "    3𝑥+1               𝑖𝑓 𝑥 𝑖𝑠 𝑜𝑑𝑑  \n",
    "    \n",
    "Your function should stop when the sequence gets to number\n",
    "\n",
    "1. Your implementation must be recursive, without any loops. "
   ]
  },
  {
   "cell_type": "code",
   "execution_count": 3,
   "id": "fca91086",
   "metadata": {},
   "outputs": [
    {
     "name": "stdout",
     "output_type": "stream",
     "text": [
      "1\n",
      "10\n",
      "5\n",
      "16\n",
      "8\n",
      "4\n",
      "2\n",
      "1\n"
     ]
    }
   ],
   "source": [
    "def collatz(x):\n",
    "    print(x)\n",
    "    if x == 1:\n",
    "        return\n",
    "    elif x % 2 == 0:\n",
    "        collatz(x // 2)\n",
    "    else:\n",
    "        collatz(3 * x + 1)\n",
    "\n",
    "collatz(1)\n",
    "collatz(10)"
   ]
  },
  {
   "cell_type": "markdown",
   "id": "a01d2e6f",
   "metadata": {},
   "source": [
    "## Question 5"
   ]
  },
  {
   "cell_type": "markdown",
   "id": "b2f9ab48",
   "metadata": {},
   "source": [
    "Write a recursive method binary() that takes a non-negative integer n and prints the binary representation of integer n. "
   ]
  },
  {
   "cell_type": "code",
   "execution_count": 4,
   "id": "63daf0cb",
   "metadata": {},
   "outputs": [
    {
     "name": "stdout",
     "output_type": "stream",
     "text": [
      "0\n",
      "\n",
      "1\n",
      "\n",
      "11\n",
      "\n",
      "1001"
     ]
    }
   ],
   "source": [
    "def binary(n):\n",
    "    if n < 2:\n",
    "        print(n, end='')\n",
    "    else:\n",
    "        binary(n // 2)\n",
    "        print(n % 2, end='')\n",
    "\n",
    "binary(0)\n",
    "print(\"\\n\")\n",
    "binary(1)\n",
    "print(\"\\n\")\n",
    "binary(3)\n",
    "print(\"\\n\")\n",
    "binary(9)"
   ]
  },
  {
   "cell_type": "markdown",
   "id": "3514fe9e",
   "metadata": {},
   "source": [
    "## Question 6"
   ]
  },
  {
   "cell_type": "markdown",
   "id": "4c54b3a9",
   "metadata": {},
   "source": [
    "Implement a class named HeadingParser that can be used to parse an HTML document, and retrieve and print all the headings in the document. You should implement your class as a subclass of HTMLParser, defined in Standard Library module html.parser. When fed a string containing HTML code, your class should print the headings, one per line and in the order in which they appear in the document. Each heading should be indented as follows: an h1 heading should have indentation 0, and h2 heading should have indentation 1, etc. Test your implementation using w3c.html."
   ]
  },
  {
   "cell_type": "code",
   "execution_count": 22,
   "id": "fc44afb4",
   "metadata": {},
   "outputs": [
    {
     "name": "stdout",
     "output_type": "stream",
     "text": [
      "Error: Invalid indentation level 'tml' encountered.\n",
      "Error: Invalid indentation level 'ead' encountered.\n",
      "Change_me\n",
      "W3C Mission\n",
      " Principles\n",
      "\n"
     ]
    }
   ],
   "source": [
    "from html.parser import HTMLParser\n",
    "\n",
    "\n",
    "class HeadingParser(HTMLParser):\n",
    "    def __init__(self):\n",
    "        super().__init__()\n",
    "        self.headings = []\n",
    "        self.current_heading = ''\n",
    "        self.indentation = 0\n",
    "\n",
    "    def handle_starttag(self, tag, attrs):\n",
    "        if tag.startswith('h'):\n",
    "            try:\n",
    "                self.indentation = int(tag[1:]) - 1\n",
    "            except ValueError:\n",
    "                print(f\"Error: Invalid indentation level '{tag[1:]}' encountered.\")\n",
    "\n",
    "    def handle_data(self, data):\n",
    "        if data.strip() != '':\n",
    "            self.current_heading = ' ' * self.indentation + data\n",
    "\n",
    "    def handle_endtag(self, tag):\n",
    "        if tag.startswith('h'):\n",
    "            self.headings.append(self.current_heading)\n",
    "            self.current_heading = ''\n",
    "\n",
    "    def print_headings(self):\n",
    "        for heading in self.headings:\n",
    "            print(heading)\n",
    "\n",
    "\n",
    "hp = HeadingParser()\n",
    "\n",
    "# Read the HTML content from the w3c.html file\n",
    "with open('w3c.html') as file:\n",
    "    content = file.read()\n",
    "\n",
    "try:\n",
    "    hp.feed(content)\n",
    "except Exception as e:\n",
    "    print(\"An error occurred during HTML parsing:\", e)\n",
    "\n",
    "hp.print_headings()\n"
   ]
  },
  {
   "cell_type": "markdown",
   "id": "614a79a6",
   "metadata": {},
   "source": [
    "## Question 7"
   ]
  },
  {
   "cell_type": "markdown",
   "id": "d7fe45af",
   "metadata": {},
   "source": [
    "Implement recursive function webdir() that takes as input: a URL (as a string) and non-negative integers depth and indent. Your function should visit every web page reachable from the starting URL web page in depth clicks or less, and print each web page's URL. As shown below, indentation, specified by indent,  should be used to indicate the depth of a URL. "
   ]
  },
  {
   "cell_type": "code",
   "execution_count": 12,
   "id": "11cb8cac",
   "metadata": {},
   "outputs": [
    {
     "name": "stdout",
     "output_type": "stream",
     "text": [
      "http://reed.cs.depaul.edu/lperkovic/csc242/test1.html\n"
     ]
    }
   ],
   "source": [
    "import requests\n",
    "\n",
    "def webdir(url, depth, indent):\n",
    "    if depth < 0:\n",
    "        return\n",
    "\n",
    "    # Add appropriate indentation based on the current depth\n",
    "    print(' ' * indent + url)\n",
    "\n",
    "    try:\n",
    "        response = requests.get(url)\n",
    "        if response.status_code == 200:\n",
    "            content = response.text\n",
    "\n",
    "            # Extract URLs from the web page\n",
    "            urls = extract_urls(content)\n",
    "\n",
    "            # Recursively visit each URL up to the specified depth\n",
    "            for next_url in urls:\n",
    "                webdir(next_url, depth - 1, indent + 1)\n",
    "    except requests.exceptions.RequestException:\n",
    "        return\n",
    "\n",
    "def extract_urls(content):\n",
    "    # Implement your logic here to extract URLs from the web page content\n",
    "    # You can use libraries like BeautifulSoup or regex to parse the HTML\n",
    "\n",
    "    # For demonstration purposes, let's assume a simple extraction logic\n",
    "    urls = []\n",
    "    start = 0\n",
    "    while True:\n",
    "        start_link = content.find('<a href=\"', start)\n",
    "        if start_link == -1:\n",
    "            break\n",
    "        start_quote = content.find('\"', start_link)\n",
    "        end_quote = content.find('\"', start_quote + 1)\n",
    "        url = content[start_quote + 1:end_quote]\n",
    "        urls.append(url)\n",
    "        start = end_quote + 1\n",
    "\n",
    "    return urls\n",
    "\n",
    "\n",
    "webdir('http://reed.cs.depaul.edu/lperkovic/csc242/test1.html', 2, 0)"
   ]
  },
  {
   "cell_type": "code",
   "execution_count": 13,
   "id": "5d7caa4f",
   "metadata": {},
   "outputs": [
    {
     "name": "stdout",
     "output_type": "stream",
     "text": [
      "http://reed.cs.depaul.edu/lperkovic/csc242/test1.html\n"
     ]
    }
   ],
   "source": [
    "webdir('http://reed.cs.depaul.edu/lperkovic/csc242/test1.html'\n",
    ", 2, 0)"
   ]
  },
  {
   "cell_type": "code",
   "execution_count": 14,
   "id": "5e77bb0a",
   "metadata": {},
   "outputs": [
    {
     "name": "stdout",
     "output_type": "stream",
     "text": [
      "http://reed.cs.depaul.edu/lperkovic/csc242/test1.html\n"
     ]
    }
   ],
   "source": [
    "webdir('http://reed.cs.depaul.edu/lperkovic/csc242/test1.html', 2, 0)"
   ]
  },
  {
   "cell_type": "code",
   "execution_count": 15,
   "id": "25b4f11c",
   "metadata": {},
   "outputs": [
    {
     "name": "stdout",
     "output_type": "stream",
     "text": [
      "http://reed.cs.depaul.edu/lperkovic/csc242/test2.html\n"
     ]
    }
   ],
   "source": [
    "webdir('http://reed.cs.depaul.edu/lperkovic/csc242/test2.html', 2, 0)"
   ]
  },
  {
   "cell_type": "markdown",
   "id": "ed78ffe1",
   "metadata": {},
   "source": [
    "## Question 8"
   ]
  },
  {
   "cell_type": "markdown",
   "id": "6426c35e",
   "metadata": {},
   "source": [
    "Write SQL queries on the below database table that return: "
   ]
  },
  {
   "cell_type": "markdown",
   "id": "ba510f2f",
   "metadata": {},
   "source": [
    "A.\tAll the temperature data.\n",
    "\n",
    "    SELECT Temperature FROM MyTable;\n",
    "    \n",
    "B.\tAll the cities, but without repetition\n",
    "    \n",
    "    SELECT DISTINCT City FROM MyTable;\n",
    "    \n",
    "C.\tAll the records for India.\n",
    "\n",
    "    SELECT * FROM MyTable WHERE Country = 'India';\n",
    "    \n",
    "D.\tAll the Fall records.\n",
    "\n",
    "    SELECT * FROM MyTable WHERE Season = 'Fall';\n",
    "    \n",
    "E.\tThe city, country, and season for which the average rainfall is between 200 and 400 millimeters.\n",
    "\n",
    "    SELECT City, Country, Season FROM MyTable GROUP BY City, Country, Season HAVING AVG(Rainfall) BETWEEN 200 AND 400;\n",
    "    \n",
    "F.\tThe city and country for which the average Fall temperature is above 20 degrees, in increasing temperature order.\n",
    "\n",
    "    SELECT City, Country FROM MyTable WHERE Season = 'Fall' GROUP BY City, Country HAVING AVG(Temperature) > 20 ORDER BY AVG(Temperature) ASC;\n",
    "    \n",
    "G.\tThe total annual rainfall for Cairo.\n",
    "\n",
    "    SELECT SUM(Rainfall) AS TotalRainfall FROM MyTable WHERE City = 'Cairo';\n",
    "    \n",
    "H.\tThe total rainfall for each season.\n",
    "\n",
    "    SELECT Season, SUM(Rainfall) AS TotalRainfall FROM MyTable GROUP BY Season;\n",
    "\n"
   ]
  },
  {
   "cell_type": "markdown",
   "id": "5b47786f",
   "metadata": {},
   "source": [
    "## Question 9"
   ]
  },
  {
   "cell_type": "markdown",
   "id": "2ca5f551",
   "metadata": {},
   "source": [
    "Suppose list words is defined as follows:\n",
    "\n",
    ">>> words = ['The', 'quick', 'brown', 'fox', 'jumps', 'over', 'the', 'lazy', 'dog']\n",
    "\n",
    "Write list comprehension expressions that use list words and generate the following lists: \n",
    "\n"
   ]
  },
  {
   "cell_type": "markdown",
   "id": "b7b5d376",
   "metadata": {},
   "source": [
    "\n",
    "Below are the comprehension expressions that use list words and generate the following lists: \n",
    "\n",
    "A. ['THE', 'QUICK', 'BROWN', 'FOX', 'JUMPS', 'OVER', 'THE', 'LAZY', 'DOG']\n",
    "    \n",
    " \n",
    "\n",
    "B. ['the', 'quick', 'brown', 'fox', 'jumps', 'over', 'the', 'lazy', 'dog'] \n",
    "\n",
    "  \n",
    "\n",
    "C. [3, 5, 5, 3, 5, 4, 3, 4, 3] (the list of lengths of words in list words). \n",
    "\n",
    "   \n",
    "\n",
    "D. [['THE', 'the', 3], ['QUICK', 'quick', 5], ['BROWN', 'brown', 5], ['FOX', 'fox', 3], ['JUMPS', 'jumps', 5], ['OVER', 'over', 4], ['THE', 'the', 3], ['LAZY', 'lazy', 4], ['DOG', 'dog', 3]] (the list containing a list for every word of list words, where each list contains the word in uppercase and lowercase and the length of the word.)\n",
    "\n",
    "   \n",
    "\n",
    "E. ['The', 'quick', 'brown', 'fox', 'jumps', 'over', 'the', 'lazy', 'dog'] (the list of words in list words containing 4 or more characters.)\n",
    "\n",
    "  \n",
    "    \n",
    "    "
   ]
  },
  {
   "cell_type": "code",
   "execution_count": 3,
   "id": "c0424c4e",
   "metadata": {},
   "outputs": [],
   "source": [
    "words = ['The', 'quick', 'brown', 'fox', 'jumps', 'over', 'the', 'lazy', 'dog']"
   ]
  },
  {
   "cell_type": "code",
   "execution_count": 4,
   "id": "9155ddcd",
   "metadata": {},
   "outputs": [
    {
     "name": "stdout",
     "output_type": "stream",
     "text": [
      "['THE', 'QUICK', 'BROWN', 'FOX', 'JUMPS', 'OVER', 'THE', 'LAZY', 'DOG']\n"
     ]
    }
   ],
   "source": [
    "uppercase_words = [word.upper() for word in words]\n",
    "print(uppercase_words)"
   ]
  },
  {
   "cell_type": "code",
   "execution_count": 6,
   "id": "ae7278a8",
   "metadata": {},
   "outputs": [
    {
     "name": "stdout",
     "output_type": "stream",
     "text": [
      "['the', 'quick', 'brown', 'fox', 'jumps', 'over', 'the', 'lazy', 'dog']\n"
     ]
    }
   ],
   "source": [
    "lowercase_words = [word.lower() for word in words]\n",
    "print(lowercase_words)"
   ]
  },
  {
   "cell_type": "code",
   "execution_count": 8,
   "id": "d96315dd",
   "metadata": {},
   "outputs": [
    {
     "name": "stdout",
     "output_type": "stream",
     "text": [
      "[3, 5, 5, 3, 5, 4, 3, 4, 3]\n"
     ]
    }
   ],
   "source": [
    "word_lengths = [len(word) for word in words]\n",
    "print(word_lengths)"
   ]
  },
  {
   "cell_type": "code",
   "execution_count": 9,
   "id": "79b1541c",
   "metadata": {},
   "outputs": [
    {
     "name": "stdout",
     "output_type": "stream",
     "text": [
      "[['THE', 'the', 3], ['QUICK', 'quick', 5], ['BROWN', 'brown', 5], ['FOX', 'fox', 3], ['JUMPS', 'jumps', 5], ['OVER', 'over', 4], ['THE', 'the', 3], ['LAZY', 'lazy', 4], ['DOG', 'dog', 3]]\n"
     ]
    }
   ],
   "source": [
    "word_info = [[word.upper(), word.lower(), len(word)] for word in words]\n",
    "print(word_info)"
   ]
  },
  {
   "cell_type": "code",
   "execution_count": 10,
   "id": "44c9f8a9",
   "metadata": {},
   "outputs": [
    {
     "name": "stdout",
     "output_type": "stream",
     "text": [
      "['quick', 'brown', 'jumps', 'over', 'lazy']\n"
     ]
    }
   ],
   "source": [
    "long_words = [word for word in words if len(word) >= 4]\n",
    "print(long_words)"
   ]
  },
  {
   "cell_type": "code",
   "execution_count": null,
   "id": "daa6fba9",
   "metadata": {},
   "outputs": [],
   "source": []
  }
 ],
 "metadata": {
  "kernelspec": {
   "display_name": "Python 3 (ipykernel)",
   "language": "python",
   "name": "python3"
  },
  "language_info": {
   "codemirror_mode": {
    "name": "ipython",
    "version": 3
   },
   "file_extension": ".py",
   "mimetype": "text/x-python",
   "name": "python",
   "nbconvert_exporter": "python",
   "pygments_lexer": "ipython3",
   "version": "3.10.9"
  }
 },
 "nbformat": 4,
 "nbformat_minor": 5
}
